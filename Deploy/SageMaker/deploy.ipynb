{
 "cells": [
  {
   "cell_type": "code",
   "execution_count": 6,
   "metadata": {},
   "outputs": [
    {
     "name": "stdout",
     "output_type": "stream",
     "text": [
      "---------------!"
     ]
    }
   ],
   "source": [
    "from sagemaker.pytorch import PyTorchModel\n",
    "from sagemaker import get_execution_role\n",
    "role = get_execution_role()\n",
    "# You can also configure a sagemaker role and reference it by its name.\n",
    "# role = \"CustomSageMakerRoleName\"\n",
    "pytorch_model = PyTorchModel(model_data='s3://sagemaker-lego/model1.tar.gz', role=role, entry_point='inference.py', framework_version='1.3.1')\n",
    "predictor = pytorch_model.deploy(instance_type='ml.m4.xlarge', initial_instance_count=1)"
   ]
  },
  {
   "cell_type": "markdown",
   "metadata": {},
   "source": [
    "---------------!"
   ]
  },
  {
   "cell_type": "code",
   "execution_count": 9,
   "metadata": {},
   "outputs": [
    {
     "data": {
      "text/plain": [
       "array({'prediction': '3024 Plate 1x1', 'score': 0.9455479834748968},\n",
       "      dtype=object)"
      ]
     },
     "execution_count": 9,
     "metadata": {},
     "output_type": "execute_result"
    }
   ],
   "source": [
    "import base64\n",
    "from PIL import Image\n",
    "from base64 import decodestring\n",
    "import io\n",
    "\n",
    "def img_to_byte(img):\n",
    "    with open(img, \"rb\") as img_file:\n",
    "        img_byte = base64.b64encode(img_file.read())\n",
    "    return img_byte\n",
    "\n",
    "# Upload an img file and rename it to '1.png'\n",
    "img_byte = img_to_byte('1.png')\n",
    "predictor.predict(img_byte)"
   ]
  }
 ],
 "metadata": {
  "kernelspec": {
   "display_name": "conda_pytorch_p36",
   "language": "python",
   "name": "conda_pytorch_p36"
  },
  "language_info": {
   "codemirror_mode": {
    "name": "ipython",
    "version": 3
   },
   "file_extension": ".py",
   "mimetype": "text/x-python",
   "name": "python",
   "nbconvert_exporter": "python",
   "pygments_lexer": "ipython3",
   "version": "3.6.5"
  }
 },
 "nbformat": 4,
 "nbformat_minor": 4
}
