{
 "cells": [
  {
   "cell_type": "code",
   "execution_count": 1,
   "metadata": {
    "colab": {},
    "colab_type": "code",
    "id": "e3l_NZIyQ2XR"
   },
   "outputs": [],
   "source": [
    "from os import listdir\n",
    "import os\n",
    "import random\n",
    "import glob\n",
    "import json"
   ]
  },
  {
   "cell_type": "code",
   "execution_count": 2,
   "metadata": {
    "colab": {},
    "colab_type": "code",
    "id": "4FTexbW0S3MI"
   },
   "outputs": [],
   "source": [
    "os.mkdir('dataset_lego/train')\n",
    "os.mkdir('dataset_lego/test')\n",
    "os.mkdir('dataset_lego/validate')"
   ]
  },
  {
   "cell_type": "code",
   "execution_count": 3,
   "metadata": {
    "colab": {},
    "colab_type": "code",
    "id": "vY33zbU3QHRa"
   },
   "outputs": [],
   "source": [
    "path = 'lego-brick-images/dataset'\n",
    "train_path = 'dataset_lego/train'\n",
    "test_path = 'dataset_lego/test'\n",
    "val_path = 'dataset_lego/validate'"
   ]
  },
  {
   "cell_type": "code",
   "execution_count": 4,
   "metadata": {
    "colab": {},
    "colab_type": "code",
    "id": "daGzp-anC_Rl"
   },
   "outputs": [],
   "source": [
    "# Get brick id from file names\n",
    "img_names = listdir(path)\n",
    "brick_names = [x.split()[0] for x in img_names]\n",
    "unique_names = list(set(brick_names))"
   ]
  },
  {
   "cell_type": "code",
   "execution_count": 5,
   "metadata": {
    "colab": {
     "base_uri": "https://localhost:8080/",
     "height": 34
    },
    "colab_type": "code",
    "id": "aiQ9FtJ5Dih0",
    "outputId": "7a6103a9-eba7-4721-b561-305def5fe5d4"
   },
   "outputs": [
    {
     "data": {
      "text/plain": [
       "50"
      ]
     },
     "execution_count": 5,
     "metadata": {},
     "output_type": "execute_result"
    }
   ],
   "source": [
    "# Validate unique brick ids\n",
    "len(unique_names)"
   ]
  },
  {
   "cell_type": "code",
   "execution_count": 6,
   "metadata": {
    "colab": {},
    "colab_type": "code",
    "id": "YR6UlfxUDpns"
   },
   "outputs": [],
   "source": [
    "# Dicts that contains class (0-49) to break id relationship\n",
    "class_to_name = {i:name for i,name in enumerate(unique_names)}\n",
    "name_to_class = {name:i for i,name in enumerate(unique_names)}"
   ]
  },
  {
   "cell_type": "code",
   "execution_count": 7,
   "metadata": {
    "colab": {
     "base_uri": "https://localhost:8080/",
     "height": 34
    },
    "colab_type": "code",
    "id": "rW5BGljUEKkH",
    "outputId": "2d29119d-b64d-4912-a534-0d1bb9ba2e9e"
   },
   "outputs": [
    {
     "name": "stdout",
     "output_type": "stream",
     "text": [
      "pass\n"
     ]
    }
   ],
   "source": [
    "# Check consistency of 'class_to_name' and 'name_to_class'\n",
    "for i in range(50):\n",
    "    name = class_to_name[i]\n",
    "    idx = name_to_class[name]\n",
    "    if i != idx:\n",
    "        print('error:', i)\n",
    "else:\n",
    "    print('pass')"
   ]
  },
  {
   "cell_type": "code",
   "execution_count": 8,
   "metadata": {
    "colab": {},
    "colab_type": "code",
    "id": "oZji2op6EbgV"
   },
   "outputs": [],
   "source": [
    "# Create Class Folder (0-49)\n",
    "for i in range(50):\n",
    "    os.mkdir(train_path + '/'+str(i))\n",
    "    os.mkdir(test_path + '/'+str(i))\n",
    "    os.mkdir(val_path + '/'+str(i))"
   ]
  },
  {
   "cell_type": "code",
   "execution_count": 9,
   "metadata": {
    "colab": {},
    "colab_type": "code",
    "id": "0uJ_HoUJdqel"
   },
   "outputs": [],
   "source": [
    "# Split data, save filenames into train_dict, test_dict, val_dict\n",
    "train_dict = {}\n",
    "test_dict = {}\n",
    "val_dict = {}\n",
    "for i in range(50):\n",
    "    fname = name = class_to_name[i]\n",
    "    flist = glob.glob(path+ '/' +fname+'*')\n",
    "    random.shuffle(flist)\n",
    "    train_dict[i] = flist[:480]\n",
    "    test_dict[i] = flist[480:640]\n",
    "    val_dict[i] = flist[640:]"
   ]
  },
  {
   "cell_type": "code",
   "execution_count": 10,
   "metadata": {
    "colab": {},
    "colab_type": "code",
    "id": "SiQX4zzifm98"
   },
   "outputs": [],
   "source": [
    "# Move training set to train folder\n",
    "for key, value in train_dict.items():\n",
    "    for f in value:\n",
    "        fname = f.split('/')[-1]\n",
    "        dest_path = train_path + '/' + str(key) +'/'+ fname\n",
    "        os.rename(f, dest_path)"
   ]
  },
  {
   "cell_type": "code",
   "execution_count": 11,
   "metadata": {
    "colab": {},
    "colab_type": "code",
    "id": "o9Bs8A-6hJTs"
   },
   "outputs": [],
   "source": [
    "# Move test set to test folder\n",
    "for key, value in test_dict.items():\n",
    "    for f in value:\n",
    "        fname = f.split('/')[-1]\n",
    "        dest_path = test_path + '/' + str(key) +'/'+ fname\n",
    "        os.rename(f, dest_path)"
   ]
  },
  {
   "cell_type": "code",
   "execution_count": 12,
   "metadata": {
    "colab": {},
    "colab_type": "code",
    "id": "0o4DVKvBhyl2"
   },
   "outputs": [],
   "source": [
    "# Move validate set to validate folder\n",
    "for key, value in val_dict.items():\n",
    "    for f in value:\n",
    "        fname = f.split('/')[-1]\n",
    "        dest_path = val_path + '/' + str(key) +'/'+ fname\n",
    "        os.rename(f, dest_path)"
   ]
  },
  {
   "cell_type": "code",
   "execution_count": 13,
   "metadata": {
    "colab": {},
    "colab_type": "code",
    "id": "nQ3TaFi0i64S"
   },
   "outputs": [],
   "source": [
    "# Save dicts which contain class (0-49) to break id relationship\n",
    "with open('class_to_name.json', 'w') as fp:\n",
    "    json.dump(class_to_name, fp)\n",
    "with open('name_to_class.json', 'w') as fp:\n",
    "    json.dump(name_to_class, fp)"
   ]
  },
  {
   "cell_type": "code",
   "execution_count": null,
   "metadata": {
    "colab": {},
    "colab_type": "code",
    "id": "xPKVw-4fjda9"
   },
   "outputs": [],
   "source": []
  }
 ],
 "metadata": {
  "colab": {
   "collapsed_sections": [],
   "name": "Lego Dataset Split.ipynb",
   "provenance": []
  },
  "kernelspec": {
   "display_name": "Python 3",
   "language": "python",
   "name": "python3"
  },
  "language_info": {
   "codemirror_mode": {
    "name": "ipython",
    "version": 3
   },
   "file_extension": ".py",
   "mimetype": "text/x-python",
   "name": "python",
   "nbconvert_exporter": "python",
   "pygments_lexer": "ipython3",
   "version": "3.7.5"
  }
 },
 "nbformat": 4,
 "nbformat_minor": 4
}
